{
 "cells": [
  {
   "cell_type": "markdown",
   "metadata": {},
   "source": [
    "# Tarea 1- Mecánica del continuo "
   ]
  },
  {
   "cell_type": "markdown",
   "metadata": {},
   "source": [
    "### 1. Tensor de esfuerzos horizontales 2D : \n",
    "\n",
    "$$\\tau = \\left( \\begin{array}{lcr} \\tau_{xx} & \\tau_{xy}\\\\ \\tau_{yx} & \\tau_{yy} \\\\\\end{array} \\right)\n",
    "= \\left( \\begin{array}{lcr} -30 & -20\\\\ -20 & -40 \\\\\\end{array} \\right) Mpa\n",
    "$$\n"
   ]
  },
  {
   "cell_type": "code",
   "execution_count": 1,
   "metadata": {},
   "outputs": [],
   "source": [
    "import numpy as np\n",
    "import matplotlib.pyplot as plt\n",
    "from numpy import linalg as LA"
   ]
  },
  {
   "cell_type": "markdown",
   "metadata": {},
   "source": [
    "####  Definiendo una función donde\n",
    "A es una matriz 2x2 compuesta por a,b,c,d y es el Tensor de esfuerzos 2D\n",
    "$$A = \\left( \\begin{array}{lcr} a & b\\\\ c & d \\\\\\end{array} \\right)$$\n",
    "ang es el angulo en grados y un las unidades en las que se encuentran los componenetes de la matriz"
   ]
  },
  {
   "cell_type": "code",
   "execution_count": 2,
   "metadata": {},
   "outputs": [],
   "source": [
    "def calcularEsfuerzosNE(a,b,c,d,un,ang):\n",
    "    #Comvertir de rad a deg:\n",
    "    A=np.array([[a, b],[c, d]])\n",
    "    r= (ang*np.pi)/180\n",
    "    #Primero realizar el análisis trigonometrico \n",
    "    c_n= (np.sin(r),np.cos(r))\n",
    "    c_s= (np.cos(r),-np.sin(r))\n",
    "    #Ahora se calculan componentes:\n",
    "    n_res = np.matmul(A, c_n)\n",
    "    s_res = np.matmul(A, c_s)\n",
    "    #Finalmente magnitudes\n",
    "    \n",
    "    n= np.matmul(n_res, c_n)\n",
    "    s= np.matmul(s_res, c_s)\n",
    "    \n",
    "    #Ahora vamos a calcular los esfuerzos principales econtrando los eigen valores \n",
    "    #y vectore para A\n",
    "    \n",
    "    eig,v=LA.eig(A)\n",
    "    if eig[0] >= eig[1]:\n",
    "        o_1=eig[0]\n",
    "        o_2=eig[1]\n",
    "    else:\n",
    "        o_1=eig[1]\n",
    "        o_2=eig[2]\n",
    "   \n",
    "    \n",
    "    #Por ultimo calcularemos los azimuts haciendo uso de algebra lineal c\n",
    "    azo1=(np.arctan(v[1,0]/v[0,0])*180)/np.pi\n",
    "    azo2=(np.arctan(v[1,1]/v[0,1])*180)/np.pi\n",
    "    #Retorna los resultados\n",
    "    return \"El esfuerzo normal es\", n, un,\"y el esfuero de cizalla es\", s,un, \"para un rumbo de\", ang,\"grados NE\", \"esfueros principales\", o_1,un, \"y\", o_2, un, \"Azimuts respectivos en \", azo1+360, \"y\", azo2  \n"
   ]
  },
  {
   "cell_type": "code",
   "execution_count": 7,
   "metadata": {},
   "outputs": [
    {
     "data": {
      "text/plain": [
       "('El esfuerzo normal es',\n",
       " -46.53886597044291,\n",
       " 'Mpa',\n",
       " 'y el esfuero de cizalla es',\n",
       " -23.461134029557087,\n",
       " 'Mpa',\n",
       " 'para un rumbo de',\n",
       " 10,\n",
       " 'grados NE',\n",
       " 'esfueros principales',\n",
       " -14.384471871911696,\n",
       " 'Mpa',\n",
       " 'y',\n",
       " -55.6155281280883,\n",
       " 'Mpa',\n",
       " 'Azimuts respectivos en ',\n",
       " 322.01812173396326,\n",
       " 'y',\n",
       " 52.01812173396325)"
      ]
     },
     "execution_count": 7,
     "metadata": {},
     "output_type": "execute_result"
    }
   ],
   "source": [
    "#a.) Esfuerzo normal y de cizalla en la falla de rumbo 10°N\n",
    "#b.) Esfuerzos principales y azimuts\n",
    "calcularEsfuerzosNE(-30,-20,-20,-40,un=\"Mpa\",ang=10)"
   ]
  },
  {
   "cell_type": "markdown",
   "metadata": {},
   "source": [
    "## 3. Falla de San Andrés"
   ]
  },
  {
   "cell_type": "code",
   "execution_count": 34,
   "metadata": {},
   "outputs": [],
   "source": [
    "#enocntrando la matriz de esfuerzos\n",
    "def smatriz(E,G,v):\n",
    "    a=(1/E)\n",
    "    b=(-v/E)\n",
    "    c=(1/(G))\n",
    "    \n",
    "    B=np.array([[a,b,0],\n",
    "               [b,a,0],\n",
    "               [0,0,c]])\n",
    "    return B\n",
    "def Ee(v,G):\n",
    "    return 2*G*(1+v)\n",
    "\n",
    "def Resmatriz(A,B):\n",
    "    Binv= LA.inv(B)\n",
    "    C= np.matmul(Binv,A)\n",
    "    return C\n",
    "#Calculando E, asumismos v=,25lp\n",
    "EE=Ee(.25,27*10**9)\n"
   ]
  },
  {
   "cell_type": "code",
   "execution_count": 35,
   "metadata": {},
   "outputs": [],
   "source": [
    "Amb=smatriz(EE,27*10**9,.25)\n",
    "Bmb=np.array([[2],[1],[80/400]])"
   ]
  },
  {
   "cell_type": "code",
   "execution_count": 37,
   "metadata": {},
   "outputs": [
    {
     "data": {
      "text/plain": [
       "array([[1.62e+11],\n",
       "       [1.08e+11],\n",
       "       [5.40e+09]])"
      ]
     },
     "execution_count": 37,
     "metadata": {},
     "output_type": "execute_result"
    }
   ],
   "source": [
    "Resmatriz(Bmb,Amb)"
   ]
  },
  {
   "cell_type": "code",
   "execution_count": 38,
   "metadata": {},
   "outputs": [
    {
     "data": {
      "text/plain": [
       "1080000000000.0"
      ]
     },
     "execution_count": 38,
     "metadata": {},
     "output_type": "execute_result"
    }
   ],
   "source": [
    "200*5.40e+09"
   ]
  },
  {
   "cell_type": "markdown",
   "metadata": {},
   "source": [
    "## 4. Módulos elásticos en el laboratorio"
   ]
  },
  {
   "cell_type": "code",
   "execution_count": 2,
   "metadata": {},
   "outputs": [],
   "source": [
    "#Módulo de Poisson\n",
    "def poisson(E,G):\n",
    "    return (E/(2*G)) -1"
   ]
  },
  {
   "cell_type": "code",
   "execution_count": 3,
   "metadata": {},
   "outputs": [
    {
     "data": {
      "text/plain": [
       "0.25"
      ]
     },
     "execution_count": 3,
     "metadata": {},
     "output_type": "execute_result"
    }
   ],
   "source": [
    "poisson(30*10**6,12*10**6)"
   ]
  },
  {
   "cell_type": "code",
   "execution_count": 4,
   "metadata": {},
   "outputs": [],
   "source": [
    "A= np.array([0.004,0.006,0.001,0.001,0,0.004])\n",
    "def Bmatriz(E,G,v):\n",
    "    a=(1/E)\n",
    "    b=(-v/E)\n",
    "    c=(1/(2*G))\n",
    "    \n",
    "    B=np.array([[a,b,b,0,0,0],\n",
    "               [b,a,b,0,0,0],\n",
    "               [b,b,a,0,0,0],\n",
    "               [0,0,0,c,0,0],\n",
    "               [0,0,0,0,c,0],\n",
    "               [0,0,0,0,0,c]])\n",
    "    return B\n",
    "C= []\n"
   ]
  },
  {
   "cell_type": "code",
   "execution_count": 5,
   "metadata": {},
   "outputs": [],
   "source": [
    "B=Bmatriz(30*10**6,12*10**6,0.25)"
   ]
  },
  {
   "cell_type": "code",
   "execution_count": 6,
   "metadata": {},
   "outputs": [
    {
     "data": {
      "text/plain": [
       "array([[ 3.33333333e-08, -8.33333333e-09, -8.33333333e-09,\n",
       "         0.00000000e+00,  0.00000000e+00,  0.00000000e+00],\n",
       "       [-8.33333333e-09,  3.33333333e-08, -8.33333333e-09,\n",
       "         0.00000000e+00,  0.00000000e+00,  0.00000000e+00],\n",
       "       [-8.33333333e-09, -8.33333333e-09,  3.33333333e-08,\n",
       "         0.00000000e+00,  0.00000000e+00,  0.00000000e+00],\n",
       "       [ 0.00000000e+00,  0.00000000e+00,  0.00000000e+00,\n",
       "         4.16666667e-08,  0.00000000e+00,  0.00000000e+00],\n",
       "       [ 0.00000000e+00,  0.00000000e+00,  0.00000000e+00,\n",
       "         0.00000000e+00,  4.16666667e-08,  0.00000000e+00],\n",
       "       [ 0.00000000e+00,  0.00000000e+00,  0.00000000e+00,\n",
       "         0.00000000e+00,  0.00000000e+00,  4.16666667e-08]])"
      ]
     },
     "execution_count": 6,
     "metadata": {},
     "output_type": "execute_result"
    }
   ],
   "source": [
    "B"
   ]
  },
  {
   "cell_type": "code",
   "execution_count": 7,
   "metadata": {},
   "outputs": [],
   "source": [
    "def Cmatriz(A,B):\n",
    "    Binv= LA.inv(B)\n",
    "    C= np.matmul(Binv,A)\n",
    "    return C"
   ]
  },
  {
   "cell_type": "code",
   "execution_count": 8,
   "metadata": {},
   "outputs": [],
   "source": [
    "C=Cmatriz(A,B)"
   ]
  },
  {
   "cell_type": "code",
   "execution_count": 9,
   "metadata": {},
   "outputs": [
    {
     "data": {
      "text/plain": [
       "array([228000., 276000., 156000.,  24000.,      0.,  96000.])"
      ]
     },
     "execution_count": 9,
     "metadata": {},
     "output_type": "execute_result"
    }
   ],
   "source": [
    "C"
   ]
  },
  {
   "cell_type": "code",
   "execution_count": 18,
   "metadata": {},
   "outputs": [],
   "source": [
    "#Organizando la matriz \n",
    "def finalMatrix(s):\n",
    "    i=0\n",
    "    a=np.array([[s[i],s[i+3],0],[s[i+3],s[i+1],s[i+5]],[0,s[i+5],s[i+2]]])\n",
    "    return a"
   ]
  },
  {
   "cell_type": "code",
   "execution_count": 19,
   "metadata": {},
   "outputs": [
    {
     "name": "stdout",
     "output_type": "stream",
     "text": [
      "[[228000.  24000.      0.]\n",
      " [ 24000. 276000.  96000.]\n",
      " [     0.  96000. 156000.]]\n"
     ]
    }
   ],
   "source": [
    "CF=finalMatrix(C)\n",
    "print(CF)"
   ]
  },
  {
   "cell_type": "markdown",
   "metadata": {},
   "source": [
    "## 5. Tensor de deformación Colombia\n",
    "$$\\sigma_{ij} = \\left( \\begin{array}{lcr} 3 & -10 & 0 \\\\ -10 & 0 & 30 \\\\ 0 & 30 & -27 \\\\\\end{array} \\right)  Pa $$"
   ]
  },
  {
   "cell_type": "code",
   "execution_count": 13,
   "metadata": {},
   "outputs": [
    {
     "data": {
      "text/plain": [
       "(23.000000000000004, 2.6645352591003757e-15, -47.0)"
      ]
     },
     "execution_count": 13,
     "metadata": {},
     "output_type": "execute_result"
    }
   ],
   "source": [
    "#Iniciamos a descomponer el tensor en primero la parte hidrostática,\n",
    "#Eigen values para esfuerzos principales \n",
    "\n",
    "M=np.array([[3,-10,0],[-10,0,30],[0,30,-27]])\n",
    "w,v=LA.eig(M)\n",
    "o1=0\n",
    "o2=0\n",
    "o3=0\n",
    "\n",
    "if w[0]>w[1] and w[0]>w[2]:\n",
    "    o1=w[0]\n",
    "    if w[1]>w[2]:\n",
    "        o2=w[1]\n",
    "        o3=w[2]\n",
    "    else:\n",
    "        o2=w[2]\n",
    "        o3=w[1]\n",
    "elif w[1]>w[0] and w[1]>w[2]:\n",
    "    o1=w[1]\n",
    "    if w[0]>w[2]:\n",
    "        o2=w[0]\n",
    "        o3=w[2]\n",
    "    else:\n",
    "        o2=w[2]\n",
    "        o3=w[0]\n",
    "else:\n",
    "    o1=w[2]\n",
    "    if w[0]>w[1]:\n",
    "        o2=w[0]\n",
    "        o3=w[1]\n",
    "    else:\n",
    "        o2=w[1]\n",
    "        o3=w[0]\n",
    "\n",
    "o1,o2,o3"
   ]
  },
  {
   "cell_type": "code",
   "execution_count": 14,
   "metadata": {},
   "outputs": [
    {
     "data": {
      "text/plain": [
       "-7.999999999999997"
      ]
     },
     "execution_count": 14,
     "metadata": {},
     "output_type": "execute_result"
    }
   ],
   "source": [
    "#Ahora encontramos el promedio\n",
    "O=(o1+o2+o3)/3\n",
    "O\n"
   ]
  },
  {
   "cell_type": "code",
   "execution_count": 15,
   "metadata": {},
   "outputs": [],
   "source": [
    "#Finalmente esfuerzo deviatorico del tensor\n",
    "Odev=np.array([[3-O,-10,0],[-10,0-O,30],[0,30,-27-O]])"
   ]
  },
  {
   "cell_type": "code",
   "execution_count": 16,
   "metadata": {},
   "outputs": [
    {
     "data": {
      "text/plain": [
       "array([[ 11., -10.,   0.],\n",
       "       [-10.,   8.,  30.],\n",
       "       [  0.,  30., -19.]])"
      ]
     },
     "execution_count": 16,
     "metadata": {},
     "output_type": "execute_result"
    }
   ],
   "source": [
    "Odev"
   ]
  },
  {
   "cell_type": "markdown",
   "metadata": {},
   "source": [
    "## 6. Parametros de Lamé"
   ]
  },
  {
   "cell_type": "code",
   "execution_count": 17,
   "metadata": {},
   "outputs": [
    {
     "data": {
      "text/plain": [
       "33075000000"
      ]
     },
     "execution_count": 17,
     "metadata": {},
     "output_type": "execute_result"
    }
   ],
   "source": [
    "mu= 2700*(3500)**2\n",
    "mu"
   ]
  },
  {
   "cell_type": "code",
   "execution_count": 18,
   "metadata": {},
   "outputs": [
    {
     "data": {
      "text/plain": [
       "53100000000.0"
      ]
     },
     "execution_count": 18,
     "metadata": {},
     "output_type": "execute_result"
    }
   ],
   "source": [
    "K=2700*(6000)**2-(4/3)*mu\n",
    "K"
   ]
  },
  {
   "cell_type": "code",
   "execution_count": 19,
   "metadata": {},
   "outputs": [
    {
     "data": {
      "text/plain": [
       "31050000000.0"
      ]
     },
     "execution_count": 19,
     "metadata": {},
     "output_type": "execute_result"
    }
   ],
   "source": [
    "lamda=K-(2/3)*mu\n",
    "lamda"
   ]
  },
  {
   "cell_type": "markdown",
   "metadata": {},
   "source": [
    "### 7.Medidor de deformación terremoto\n",
    " \n",
    " $$ \\begin{array}{lcr}\\varepsilon_{xx}\\\\\\varepsilon_{yy}\\\\\\varepsilon_{xy}\\\\\\end{array}= \\begin{array}{lcr}-0.26\\times10^{-6} \\\\-0.92\\times10^{-6} \\\\-0.69\\times10^{-6} \\end{array}   $$"
   ]
  },
  {
   "cell_type": "code",
   "execution_count": 26,
   "metadata": {},
   "outputs": [],
   "source": [
    "#Modulo de Young\n",
    "G1=3.3*10**10\n",
    "v1=0.25\n",
    "E1=2*G1*(1+v1)"
   ]
  },
  {
   "cell_type": "code",
   "execution_count": 27,
   "metadata": {},
   "outputs": [],
   "source": [
    "#Incorporamos nuestros datos en la matriz \n",
    "def matriz(E,G,v):\n",
    "    a=(1/E)\n",
    "    b=(-v/E)\n",
    "    c=(1/(G))\n",
    "    \n",
    "    B=np.array([[a,b,0],\n",
    "               [b,a,0],\n",
    "               [0,0,c]])\n",
    "    return B"
   ]
  },
  {
   "cell_type": "code",
   "execution_count": 28,
   "metadata": {},
   "outputs": [],
   "source": [
    "Am=matriz(E1,G1,v1)\n",
    "Bm=np.array([[-0.26*10**-6],[-0.92*10**-6],[-0.69**10-6]])"
   ]
  },
  {
   "cell_type": "code",
   "execution_count": 29,
   "metadata": {},
   "outputs": [
    {
     "data": {
      "text/plain": [
       "array([[ 1.21212121e-11, -3.03030303e-12,  0.00000000e+00],\n",
       "       [-3.03030303e-12,  1.21212121e-11,  0.00000000e+00],\n",
       "       [ 0.00000000e+00,  0.00000000e+00,  3.03030303e-11]])"
      ]
     },
     "execution_count": 29,
     "metadata": {},
     "output_type": "execute_result"
    }
   ],
   "source": [
    "Am"
   ]
  },
  {
   "cell_type": "code",
   "execution_count": 30,
   "metadata": {},
   "outputs": [],
   "source": [
    "def Resmatriz(A,B):\n",
    "    Binv= LA.inv(B)\n",
    "    C= np.matmul(Binv,A)\n",
    "    return C"
   ]
  },
  {
   "cell_type": "code",
   "execution_count": 31,
   "metadata": {},
   "outputs": [
    {
     "data": {
      "text/plain": [
       "array([[-4.31200000e+04],\n",
       "       [-8.66800000e+04],\n",
       "       [-1.98807244e+11]])"
      ]
     },
     "execution_count": 31,
     "metadata": {},
     "output_type": "execute_result"
    }
   ],
   "source": [
    "Resmatriz(Bm,Am)"
   ]
  },
  {
   "cell_type": "code",
   "execution_count": 42,
   "metadata": {},
   "outputs": [],
   "source": [
    "#Modulo de Young, donde o es el esfuerzo diferencial y e la deformaciín\n",
    "def Young(o,e):\n",
    "    E=o/e\n",
    "    return E"
   ]
  },
  {
   "cell_type": "code",
   "execution_count": 43,
   "metadata": {},
   "outputs": [
    {
     "name": "stdout",
     "output_type": "stream",
     "text": [
      "250.0 480.0 538.4615384615385\n"
     ]
    }
   ],
   "source": [
    "#Porcentajes de e aproximados a la grafica\n",
    "print (Young(200,.8),Young(1200,2.5),Young(2100,3.9))"
   ]
  },
  {
   "cell_type": "code",
   "execution_count": 44,
   "metadata": {},
   "outputs": [],
   "source": [
    "\n",
    "y=(250.0, 480.0, 538.4615384615385)\n",
    "x=(0,200,400)"
   ]
  },
  {
   "cell_type": "code",
   "execution_count": 45,
   "metadata": {},
   "outputs": [
    {
     "data": {
      "text/plain": [
       "<matplotlib.collections.PathCollection at 0x251c7a23188>"
      ]
     },
     "execution_count": 45,
     "metadata": {},
     "output_type": "execute_result"
    },
    {
     "data": {
      "image/png": "[encoded data removed]",
      "text/plain": [
       "<Figure size 432x288 with 1 Axes>"
      ]
     },
     "metadata": {
      "needs_background": "light"
     },
     "output_type": "display_data"
    }
   ],
   "source": [
    "plt.scatter(x,y)"
   ]
  },
  {
   "cell_type": "code",
   "execution_count": 46,
   "metadata": {},
   "outputs": [],
   "source": [
    "def normal(o_1,o_3,ra):  \n",
    "    r= (ra*np.pi)/180\n",
    "    return ((o_1+o_3)/2)+((o_1-o_3)/2)*np.cos(2*r)\n",
    "def cizala(o_1,o_3,ra) :\n",
    "    r= (ra*np.pi)/180\n",
    "    return ((o_1-o_3)/2)*np.sin(2*r)\n"
   ]
  },
  {
   "cell_type": "code",
   "execution_count": 47,
   "metadata": {},
   "outputs": [
    {
     "name": "stdout",
     "output_type": "stream",
     "text": [
      "23.395555688102206 -64.27876096865394\n"
     ]
    }
   ],
   "source": [
    "print(normal(200,0,-70),cizala(200,0,-70))"
   ]
  },
  {
   "cell_type": "code",
   "execution_count": 48,
   "metadata": {},
   "outputs": [],
   "source": [
    "m=(-64.27876096865394-0)/(23.395555688102206-100)"
   ]
  },
  {
   "cell_type": "code",
   "execution_count": 49,
   "metadata": {},
   "outputs": [
    {
     "data": {
      "text/plain": [
       "0.8390996311772803"
      ]
     },
     "execution_count": 49,
     "metadata": {},
     "output_type": "execute_result"
    }
   ],
   "source": [
    "m"
   ]
  },
  {
   "cell_type": "code",
   "execution_count": 130,
   "metadata": {},
   "outputs": [],
   "source": [
    "mu=-1/m"
   ]
  },
  {
   "cell_type": "code",
   "execution_count": 131,
   "metadata": {},
   "outputs": [
    {
     "data": {
      "text/plain": [
       "-1.1917535925942095"
      ]
     },
     "execution_count": 131,
     "metadata": {},
     "output_type": "execute_result"
    }
   ],
   "source": [
    "mu"
   ]
  },
  {
   "cell_type": "code",
   "execution_count": 134,
   "metadata": {},
   "outputs": [],
   "source": [
    "C=-64.27876096865394-(mu*23.395555688102206)"
   ]
  },
  {
   "cell_type": "code",
   "execution_count": 135,
   "metadata": {},
   "outputs": [
    {
     "data": {
      "text/plain": [
       "-36.397023426620244"
      ]
     },
     "execution_count": 135,
     "metadata": {},
     "output_type": "execute_result"
    }
   ],
   "source": [
    "C\n"
   ]
  },
  {
   "cell_type": "code",
   "execution_count": 136,
   "metadata": {},
   "outputs": [],
   "source": [
    "T=C/2"
   ]
  },
  {
   "cell_type": "code",
   "execution_count": 137,
   "metadata": {},
   "outputs": [
    {
     "data": {
      "text/plain": [
       "-18.198511713310122"
      ]
     },
     "execution_count": 137,
     "metadata": {},
     "output_type": "execute_result"
    }
   ],
   "source": [
    "T"
   ]
  },
  {
   "cell_type": "markdown",
   "metadata": {},
   "source": [
    "### 2. Roca a profundidad en la corteza\n",
    "$$1. \\dfrac{\\sigma_{1}}{\\sigma_{3}}=\\dfrac{2}{3} $$\n",
    " $$2. \\tau=\\dfrac{(\\sigma_{1}-\\sigma_{3})}{2}sen2\\theta$$\n",
    " depejando:\n",
    " \n",
    " $$\\sigma_{3}=\\dfrac{2}{3}\\sigma_{1}$$\n",
    " $$\\tau=\\dfrac{\\sigma_{1}-\\dfrac{2}{3}\\sigma_{1}}{2}sen(2\\theta)$$\n",
    " \n",
    " finalmente,\n",
    " \n",
    " $$\\sigma_{1}=\\dfrac{(6\\tau)}{sen(2\\theta)} $$"
   ]
  },
  {
   "cell_type": "code",
   "execution_count": 16,
   "metadata": {},
   "outputs": [],
   "source": [
    "def o_11(tau,ang):\n",
    "    b= (ang*np.pi)/180\n",
    "    return (6*tau)/np.sin(2*b)\n",
    "def o3(o1):\n",
    "    return 2/3*o1\n",
    "def om(o1,oo3):\n",
    "    return (o1+oo3)/2\n",
    "def z(om,rho=2700,g=9.8):\n",
    "    return om/(rho*g)"
   ]
  },
  {
   "cell_type": "code",
   "execution_count": 9,
   "metadata": {},
   "outputs": [],
   "source": [
    "o111=o_11(10**7,45)"
   ]
  },
  {
   "cell_type": "code",
   "execution_count": 14,
   "metadata": {},
   "outputs": [],
   "source": [
    "o33=o3(o111)\n",
    "omm=om(o111,o33)"
   ]
  },
  {
   "cell_type": "code",
   "execution_count": 17,
   "metadata": {},
   "outputs": [
    {
     "data": {
      "text/plain": [
       "1889.6447467876037"
      ]
     },
     "execution_count": 17,
     "metadata": {},
     "output_type": "execute_result"
    }
   ],
   "source": [
    "z(omm)"
   ]
  },
  {
   "cell_type": "code",
   "execution_count": 149,
   "metadata": {},
   "outputs": [],
   "source": [
    "def p(z,rho=2700,g=9.8):\n",
    "    return z*rho*g"
   ]
  },
  {
   "cell_type": "code",
   "execution_count": 151,
   "metadata": {},
   "outputs": [
    {
     "data": {
      "text/plain": [
       "52920000.00000001"
      ]
     },
     "execution_count": 151,
     "metadata": {},
     "output_type": "execute_result"
    }
   ],
   "source": [
    "p(2000)"
   ]
  },
  {
   "cell_type": "code",
   "execution_count": 152,
   "metadata": {},
   "outputs": [],
   "source": [
    "o222=p(2000)*(2/3)"
   ]
  },
  {
   "cell_type": "code",
   "execution_count": 153,
   "metadata": {},
   "outputs": [
    {
     "data": {
      "text/plain": [
       "35280000.0"
      ]
     },
     "execution_count": 153,
     "metadata": {},
     "output_type": "execute_result"
    }
   ],
   "source": [
    "o222"
   ]
  },
  {
   "cell_type": "markdown",
   "metadata": {},
   "source": [
    "## Griffith\n",
    "$$  \\sigma_{critico}=(\\dfrac{2E\\gamma}{\\pi c})^{1/2}=>c=\\dfrac{2E\\gamma}{\\sigma_{crit}^{2}\\pi}$$"
   ]
  },
  {
   "cell_type": "code",
   "execution_count": 4,
   "metadata": {},
   "outputs": [],
   "source": [
    "def c(E,y,oc,pi=np.pi):\n",
    "    return (2*E*y)/oc**2*pi"
   ]
  },
  {
   "cell_type": "code",
   "execution_count": 5,
   "metadata": {},
   "outputs": [
    {
     "data": {
      "text/plain": [
       "1.9547687622336493e-06"
      ]
     },
     "execution_count": 5,
     "metadata": {},
     "output_type": "execute_result"
    }
   ],
   "source": [
    "a=2*c(7*10**9,.5,.15*10**9)\n",
    "a"
   ]
  },
  {
   "cell_type": "markdown",
   "metadata": {},
   "source": [
    "## Teoria LEFM\n",
    "1.$$K_{N}= \\sigma\\sqrt{\\pi c}$$"
   ]
  },
  {
   "cell_type": "code",
   "execution_count": 14,
   "metadata": {},
   "outputs": [],
   "source": [
    "#definimos K\n",
    "def K (o,c,pi=np.pi):\n",
    "    return o*((pi*c)**(1/2))"
   ]
  },
  {
   "cell_type": "code",
   "execution_count": 15,
   "metadata": {},
   "outputs": [
    {
     "data": {
      "text/plain": [
       "[1855.168363947773, 2162.3936981047295, 708.9815403622064]"
      ]
     },
     "execution_count": 15,
     "metadata": {},
     "output_type": "execute_result"
    }
   ],
   "source": [
    "Rocas=[1570,1830,600]\n",
    "Kf=[]\n",
    "for i in range(len(Rocas)):\n",
    "    Kf.append(K(2/3*(Rocas[i]),1))\n",
    "Kf"
   ]
  },
  {
   "cell_type": "code",
   "execution_count": 16,
   "metadata": {},
   "outputs": [
    {
     "data": {
      "text/plain": [
       "1046.6666666666665"
      ]
     },
     "execution_count": 16,
     "metadata": {},
     "output_type": "execute_result"
    }
   ],
   "source": [
    "2/3*1570"
   ]
  },
  {
   "cell_type": "code",
   "execution_count": 17,
   "metadata": {},
   "outputs": [
    {
     "data": {
      "text/plain": [
       "1855.0502003577128"
      ]
     },
     "execution_count": 17,
     "metadata": {},
     "output_type": "execute_result"
    }
   ],
   "source": [
    "K(1046.6,1)"
   ]
  },
  {
   "cell_type": "markdown",
   "metadata": {},
   "source": [
    "## Teoria LEFM\n",
    "2.$$(\\dfrac{K}{\\sigma})^{2}/\\pi= c$$"
   ]
  },
  {
   "cell_type": "code",
   "execution_count": 18,
   "metadata": {},
   "outputs": [],
   "source": [
    "def cc(K,o,pi=np.pi):\n",
    "    return ((K/o)**2)/pi"
   ]
  },
  {
   "cell_type": "code",
   "execution_count": 19,
   "metadata": {},
   "outputs": [],
   "source": [
    "Kic=[1600,3000,1140]\n",
    "c=[]\n",
    "for i in range(len(Kic)):\n",
    "    c.append(cc(Kic[i],2/3*(Rocas[i])))\n"
   ]
  },
  {
   "cell_type": "code",
   "execution_count": 20,
   "metadata": {},
   "outputs": [
    {
     "data": {
      "text/plain": [
       "[0.7438293417252769, 1.9247440040675332, 2.58547205052784]"
      ]
     },
     "execution_count": 20,
     "metadata": {},
     "output_type": "execute_result"
    }
   ],
   "source": [
    "c"
   ]
  },
  {
   "cell_type": "code",
   "execution_count": null,
   "metadata": {},
   "outputs": [],
   "source": []
  },
  {
   "cell_type": "markdown",
   "metadata": {},
   "source": [
    "## Teoria LEFM\n",
    "3"
   ]
  },
  {
   "cell_type": "code",
   "execution_count": 31,
   "metadata": {},
   "outputs": [
    {
     "data": {
      "text/plain": [
       "[0.7438293417252769, 1.9247440040675332, 2.58547205052784]"
      ]
     },
     "execution_count": 31,
     "metadata": {},
     "output_type": "execute_result"
    }
   ],
   "source": [
    "Kf3=[]\n",
    "for i in range(len(Rocas)):\n",
    "    Kf3.append(K(2/3*(Rocas[i]),1000))\n",
    "Kf3"
   ]
  },
  {
   "cell_type": "code",
   "execution_count": 33,
   "metadata": {},
   "outputs": [
    {
     "data": {
      "text/plain": [
       "708.9815403622064"
      ]
     },
     "execution_count": 33,
     "metadata": {},
     "output_type": "execute_result"
    }
   ],
   "source": [
    "K(2/3*(Rocas[i]),1)"
   ]
  },
  {
   "cell_type": "code",
   "execution_count": null,
   "metadata": {},
   "outputs": [],
   "source": []
  }
 ],
 "metadata": {
  "kernelspec": {
   "display_name": "Python 3",
   "language": "python",
   "name": "python3"
  },
  "language_info": {
   "codemirror_mode": {
    "name": "ipython",
    "version": 3
   },
   "file_extension": ".py",
   "mimetype": "text/x-python",
   "name": "python",
   "nbconvert_exporter": "python",
   "pygments_lexer": "ipython3",
   "version": "3.7.6"
  }
 },
 "nbformat": 4,
 "nbformat_minor": 4
}
