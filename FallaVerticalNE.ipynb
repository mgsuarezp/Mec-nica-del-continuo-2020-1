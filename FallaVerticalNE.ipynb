{
 "cells": [
  {
   "cell_type": "markdown",
   "metadata": {},
   "source": [
    "### 2. Programa para calcular el esfuerzo a través de una falla verical con azimuts que varíen entre 0 y 170° (del Norte hacia el E; con incrementos de 10°):\n",
    "\n",
    "En esta función el usuario ingresa el tensor de esfuerzos como la matriz A: $$A = \\left( \\begin{array}{lcr} a & b\\\\ c & d \\\\\\end{array} \\right)$$  a, b ,c y d todas en las mismas unidades que debe especificar en la casilla Unidades, por otro lado debe ingresar el angulo en grados, en este caso con varios datos agregaremos con anterioridad una función Angulos que nos facilite el cálculo."
   ]
  },
  {
   "cell_type": "code",
   "execution_count": 1,
   "metadata": {},
   "outputs": [],
   "source": [
    "import numpy as np\n",
    "import matplotlib as plt\n",
    "from numpy import linalg as LA"
   ]
  },
  {
   "cell_type": "code",
   "execution_count": 7,
   "metadata": {},
   "outputs": [],
   "source": [
    "Resultados=[]\n",
    "def fallaNEing():\n",
    "    a=float(input(\"Introduce el valor de a :\" )) \n",
    "    b=float(input(\"Introduce el valor de b :\" ))\n",
    "    c=float(input(\"Introduce el valor de c :\" ))\n",
    "    d=float(input(\"Introduce el valor de d :\" ))\n",
    "    un=str(input(\"Introduce las unidades en que se encuntra el tensor :\" ))\n",
    "    ang=float(input(\"Introduce las unidades en que se encuntra el tensor :\" ))\n",
    "    #Comvertir de rad a deg:\n",
    "    A=np.array([[a, b],[c, d]])\n",
    "    r= (ang*np.pi)/180\n",
    "    #Primero realizar el análisis trigonometrico \n",
    "    c_n= (np.sin(r),np.cos(r))\n",
    "    c_s= (np.cos(r),-np.sin(r))\n",
    "    #Ahora se calculan componentes:\n",
    "    n_res = np.matmul(A, c_n)\n",
    "    s_res = np.matmul(A, c_s)\n",
    "    #Finalmente magnitudes\n",
    "\n",
    "    \n",
    "    #Ahora vamos a calcular los esfuerzos principales econtrando los eigen valores \n",
    "    #y vectore para A\n",
    "    \n",
    "    eig,v=LA.eig(A)\n",
    "    if eig[0] >= eig[1]:\n",
    "        o_1=eig[0]\n",
    "        o_2=eig[1]\n",
    "    else:\n",
    "        o_1=eig[1]\n",
    "        o_2=eig[2]\n",
    "   \n",
    "    \n",
    "    #Por ultimo calcularemos los azimuts haciendo uso de algebra lineal c\n",
    "    azo1=(np.arctan(v[1,0]/v[0,0])*180)/np.pi\n",
    "    azo2=(np.arctan(v[1,1]/v[0,1])*180)/np.pi\n",
    "    #Retorna los resultados\n",
    "    #Resultados.append(n) s,o_1,o_2,azo1,azo2\n",
    "    \n",
    "    print (\"El esfuerzo normal es\", n_res, un,\"y el esfuero de cizalla es\", s_res,un, \"para un rumbo de\", ang,\"grados NE\", \"esfueros principales\", o_1,un, \"y\", o_2, un, \"Azimuts respectivos en \", azo1, \"y\", azo2)  \n",
    "    return  Resultados"
   ]
  },
  {
   "cell_type": "code",
   "execution_count": 47,
   "metadata": {},
   "outputs": [],
   "source": [
    "Resultados=[]\n",
    "def FallaNE(a,b,c,d,un,ang):\n",
    "   \n",
    "    #Comvertir de rad a deg:\n",
    "    A=np.array([[a, b],[c, d]])\n",
    "    r= (ang*np.pi)/180\n",
    "    #Primero realizar el análisis trigonometrico \n",
    "    c_n= (np.sin(r),np.cos(r))\n",
    "    c_s= (np.cos(r)),-np.sin(r)\n",
    "    #Ahora se calculan componentes:\n",
    "    n_res = np.matmul(A, c_n)\n",
    "    s_res = np.matmul(A, c_s)\n",
    "    \n",
    "    #Finalmente magnitudes\n",
    "    \n",
    "    n= float(np.dot(n_res.T, c_n))\n",
    "    s= float(np.dot(n_res.T, c_s))\n",
    "    #Ahora vamos a calcular los esfuerzos principales econtrando los eigen valores \n",
    "    #y vectore para A\n",
    "    \n",
    "    eig,v=LA.eig(A)\n",
    "    if eig[0] >= eig[1]:\n",
    "        o_1=eig[0]\n",
    "        o_2=eig[1]\n",
    "    else:\n",
    "        o_1=eig[1]\n",
    "        o_2=eig[0]\n",
    "    Resultados.append(o_1)\n",
    "    Resultados.append(o_2)\n",
    "    \n",
    "    #Por ultimo calcularemos los azimuts haciendo uso de algebra lineal c\n",
    "    azo1=(np.arctan(v[1,0]/v[0,0])*180)/np.pi\n",
    "    azo2=(np.arctan(v[1,1]/v[0,1])*180)/np.pi\n",
    "    Resultados.append(azo1)\n",
    "    Resultados.append(azo2)\n",
    "    Resultados.append(ang)\n",
    "    #Retorna los resultados\n",
    "    #print (\"El esfuerzo normal es\", n, un,\"y el esfuero de cizalla es\", s,un, \"para un rumbo de\", ang,\"grados NE\", \"esfueros principales\", o_1,un, \"y\", o_2, un, \"Azimuts respectivos en \", azo1, \"y\", azo2)  \n",
    "    print (ang, \"&\"  , n,\"&\" , s)\n",
    "    return  Resultados\n"
   ]
  },
  {
   "cell_type": "code",
   "execution_count": 62,
   "metadata": {},
   "outputs": [
    {
     "name": "stdout",
     "output_type": "stream",
     "text": [
      "[  0  10  20  30  40  50  60  70  80  90 100 110 120 130 140 150 160 170]\n"
     ]
    }
   ],
   "source": [
    "degs=np.arange(0,180,10)\n",
    "print(degs)"
   ]
  },
  {
   "cell_type": "code",
   "execution_count": 64,
   "metadata": {},
   "outputs": [
    {
     "name": "stdout",
     "output_type": "stream",
     "text": [
      "Azimut              EsfuerzoNormal        EsfuerzoCizalla\n",
      "0 & 81300.0 & -45600.0\n",
      "10 & 78748.9978592439 & -60067.45206267579\n",
      "20 & 71403.67994393279 & -72789.91588974062\n",
      "30 & 60150.000000000015 & -82232.87458008176\n",
      "40 & 46345.317915311156 & -87257.36795241639\n",
      "50 & 31654.682084688848 & -87257.36795241639\n",
      "60 & 17850.000000000004 & -82232.87458008176\n",
      "70 & 6596.320056067234 & -72789.91588974062\n",
      "80 & -748.9978592439202 & -60067.452062675795\n",
      "90 & -3300.0 & -45600.00000000001\n",
      "100 & -748.9978592439265 & -31132.547937324216\n",
      "110 & 6596.320056067228 & -18410.08411025939\n",
      "120 & 17849.99999999998 & -8967.125419918248\n",
      "130 & 31654.68208468885 & -3942.6320475836\n",
      "140 & 46345.317915311134 & -3942.6320475836\n",
      "150 & 60150.0 & -8967.125419918248\n",
      "160 & 71403.67994393276 & -18410.084110259373\n",
      "170 & 78748.99785924391 & -31132.54793732422\n"
     ]
    }
   ],
   "source": [
    "EsfuerzosNormales=[]\n",
    "EsfuerzosCizalla=[]\n",
    "Angulo=[]\n",
    "print (\"Azimut\", \"             EsfuerzoNormal\",   \"       EsfuerzoCizalla\") \n",
    "i=0 \n",
    "for i in degs:\n",
    "    FallaNE(-3300,-45600,45600,81300,\"Pa\",i)\n",
    "\n",
    "    \n",
    "    "
   ]
  },
  {
   "cell_type": "code",
   "execution_count": null,
   "metadata": {},
   "outputs": [],
   "source": []
  }
 ],
 "metadata": {
  "kernelspec": {
   "display_name": "Python 3",
   "language": "python",
   "name": "python3"
  },
  "language_info": {
   "codemirror_mode": {
    "name": "ipython",
    "version": 3
   },
   "file_extension": ".py",
   "mimetype": "text/x-python",
   "name": "python",
   "nbconvert_exporter": "python",
   "pygments_lexer": "ipython3",
   "version": "3.7.6"
  }
 },
 "nbformat": 4,
 "nbformat_minor": 4
}
