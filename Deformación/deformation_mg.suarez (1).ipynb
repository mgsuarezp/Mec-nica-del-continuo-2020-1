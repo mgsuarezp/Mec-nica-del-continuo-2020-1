{
 "cells": [
  {
   "cell_type": "markdown",
   "metadata": {},
   "source": [
    "# Deformación "
   ]
  },
  {
   "cell_type": "markdown",
   "metadata": {},
   "source": [
    "Haciendo uso del siguiente script de python es posible determinar las condiciones finales apartir del angulo de deformación $\\Psi$; determinando el tipo de defotmación entre cizalla simple y pura, además de la magnitud $\\gamma$ de dicha deformación."
   ]
  },
  {
   "cell_type": "code",
   "execution_count": 3,
   "metadata": {},
   "outputs": [],
   "source": [
    "import numpy as np\n",
    "from matplotlib.patches import Ellipse\n",
    "from matplotlib.patches import Circle\n",
    "import matplotlib.pyplot as plt\n",
    "# La función deformación mide la magnitud de la deformación y define el tipo cizalla pura y simple ingresando radianes.\n",
    "def deformacionRad ():\n",
    "    cizalla= \"No\"\n",
    "    b= float(input(\"Introduce el angulo en radianes:\" ))\n",
    "    if (b==0):\n",
    "        cizalla = \"pura\"\n",
    "    else:\n",
    "        cizalla=\"simple\"\n",
    "    return \"La magnitud de la deformación es: \" + str(round(np.tan(b),3)) + \" para una cizalla \" + str(cizalla)\n",
    "\n",
    "def deformacionDeg ():\n",
    "    cizalla= \"No\"\n",
    "    b= int(input(\"Introduce el angulo en grados:\" ))\n",
    "    c= (np.pi*b)/180\n",
    "    if (c==0):\n",
    "        cizalla = \"pura\"\n",
    "    else:\n",
    "        cizalla=\"simple\"\n",
    "    return \"La magnitud de la deformación es: \" + str(round(np.tan(c),3)) + \" para una cizalla \" + str(cizalla)\n",
    "    "
   ]
  },
  {
   "cell_type": "code",
   "execution_count": 2,
   "metadata": {},
   "outputs": [
    {
     "name": "stdin",
     "output_type": "stream",
     "text": [
      "Introduce el angulo en radianes: 0.523599\n"
     ]
    },
    {
     "data": {
      "text/plain": [
       "'La magnitud de la deformación es: 0.577 para una cizalla simple'"
      ]
     },
     "execution_count": 2,
     "metadata": {},
     "output_type": "execute_result"
    }
   ],
   "source": [
    "deformacionRad()"
   ]
  },
  {
   "cell_type": "code",
   "execution_count": 150,
   "metadata": {},
   "outputs": [
    {
     "name": "stdin",
     "output_type": "stream",
     "text": [
      "Introduce el angulo en grados: 30\n"
     ]
    },
    {
     "data": {
      "text/plain": [
       "'La magnitud de la deformación es: 0.577 para una cizalla simple'"
      ]
     },
     "execution_count": 150,
     "metadata": {},
     "output_type": "execute_result"
    }
   ],
   "source": [
    "deformacionDeg()"
   ]
  },
  {
   "cell_type": "markdown",
   "metadata": {},
   "source": [
    "# Elipse de deformación:\n",
    "\n",
    "Para la realización de la elipse de defromación es necesario que el usuario ingrese los valores de $\\epsilon_1$ y $\\epsilon_3$, además de los valores producto de la deformación $\\epsilon_1f$ y $\\epsilon_3f$ y el ángulo de deformación $\\Psi$. Obteniendo como resultado la elipse inicial y la elipse deformada."
   ]
  },
  {
   "cell_type": "code",
   "execution_count": 15,
   "metadata": {},
   "outputs": [],
   "source": [
    "#La funcion wlipsoide representa la deformación en el la elipsoide al ingresar el angulo en radianes o grados\n",
    "def elipsoideRad():\n",
    "    u=0.       \n",
    "    v=0     \n",
    "    a=2.       \n",
    "    b=1.5        \n",
    "    r1o= float(input(\"Introduce el valor incial para $\\epsilon_1$ :\" ))  \n",
    "    r2o= float(input(\"Introduce el valor incial para $\\epsilon_3$:\" ))  \n",
    "    r1= float(input(\"Introduce el valor final para $\\epsilon_1$ :\" ))  \n",
    "    r2= float(input(\"Introduce el valor final para $\\epsilon_3$:\" ))  \n",
    "    t_rot= float(input(\"Introduce el angulo en radianes:\" ))\n",
    "    a=r1       \n",
    "    b=r2\n",
    "    t = np.linspace(0, 2*np.pi, 100)\n",
    "    \n",
    "    x1 = r1o*np.cos(t)\n",
    "    x2 = r2o*np.sin(t)\n",
    "    fig, ax = plt.subplots(1)\n",
    "    ax.plot(x1, x2, 'darkorange' )\n",
    "    ax.plot([0, 0], [0, 5], '-c')\n",
    "    ax.plot([0, a], [0, 0], 'k') #linea\n",
    "    ax.set_aspect(1)\n",
    "    plt.title(\"Elispe inicial\")\n",
    "    plt.grid(color='lightgray',linestyle='--')\n",
    "    plt.show()\n",
    "    if(t_rot==0):\n",
    "        t = np.linspace(0, 2*np.pi, 100)\n",
    "        r = np.sqrt(4)\n",
    "        x1 = a*np.cos(t)\n",
    "        x2 = b*np.sin(t)\n",
    "        fig, ax = plt.subplots(1)\n",
    "        ax.plot(x1, x2)\n",
    "        ax.plot([0, a], [0, 0], 'k') #linea\n",
    "        ax.set_aspect(1)\n",
    "        plt.title('Elipse deformada')\n",
    "        plt.grid(color='lightgray',linestyle='--')\n",
    "        plt.show()\n",
    "    elif(t_rot==1.5708):\n",
    "        t = np.linspace(0, 2*np.pi, 100)\n",
    "        r1 = np.sqrt(4)\n",
    "        r2 = np.sqrt(1)\n",
    "        x1 = a*np.cos(t)\n",
    "        x2 = b*np.sin(t)\n",
    "        fig, ax = plt.subplots(1)\n",
    "        ax.plot(x1, x2, 'darkorange' )\n",
    "        ax.plot([0, 0], [0, 5], '-c')\n",
    "        ax.plot([0, a], [0, 0], 'k') #linea\n",
    "        ax.set_aspect(1)\n",
    "        plt.title('Elipse deformada')\n",
    "        plt.grid(color='lightgray',linestyle='--')\n",
    "        plt.show()\n",
    "    else:\n",
    "        t = np.linspace(0, 2*np.pi, 100)\n",
    "        Ell = np.array([a*np.cos(t) , b*np.sin(t)])  \n",
    "        Elli = np.array([2*np.cos(t) , 2*np.sin(t)])  \n",
    "\n",
    "        \n",
    "        R_rot = np.array([[np.cos(t_rot) , -np.sin(t_rot)],[np.sin(t_rot) , np.cos(t_rot)]])  \n",
    "     #Rotar la elipse \n",
    "\n",
    "        Ell_rot = np.zeros((2,Ell.shape[1]))\n",
    "        for i in range(Ell.shape[1]):\n",
    "            Ell_rot[:,i] = np.dot(R_rot,Ell[:,i])\n",
    "        \n",
    "        x = np.linspace(0,5,100)\n",
    "        m=np.tan(t_rot)\n",
    "        y = m*x+0 #y=mx+b linea recta y m=tan(r_rot) para la pendiente :) \n",
    "        plt.plot(x, y, '-c')\n",
    "        plt.plot( u+Ell_rot[0,:] , v+Ell_rot[1,:],'darkorange' ) #elipse rotada\n",
    "        plt.scatter(u,v) #centro\n",
    "        plt.plot([0, a], [0, 0], 'k') #linea\n",
    "        plt.title('Elipse deformada')\n",
    "        plt.grid(color='lightgray',linestyle='--')\n",
    "        plt.show()\n",
    "\n",
    "        \n",
    "    \n",
    "def elipsoideDeg():\n",
    "    \n",
    "    u=0.       \n",
    "    v=0     \n",
    "    r1o= float(input(\"Introduce el valor incial para $\\epsilon_1$ :\" ))  \n",
    "    r2o= float(input(\"Introduce el valor incial para $\\epsilon_3$:\" ))  \n",
    "    r1= float(input(\"Introduce el valor final para $\\epsilon_1$ :\" ))  \n",
    "    r2= float(input(\"Introduce el valor final para $\\epsilon_3$:\" ))  \n",
    "    c= float(input(\"Introduce el angulo en grados:\" )) #rotation angle ingresar\n",
    "    t_rot = (np.pi*c)/180\n",
    "    a=r1       \n",
    "    b=r2  \n",
    "    \n",
    "    t = np.linspace(0, 2*np.pi, 100)\n",
    "    x1 = r1o*np.cos(t)\n",
    "    x2 = r2o*np.sin(t)\n",
    "    fig, ax = plt.subplots(1)\n",
    "    ax.plot(x1, x2, 'darkorange' )\n",
    "    ax.plot([0, 0], [0, 5], '-c')\n",
    "    ax.plot([0, a], [0, 0], 'k') #linea\n",
    "    ax.set_aspect(1)\n",
    "    plt.title(\"Elispe inicial\")\n",
    "    plt.grid(color='lightgray',linestyle='--')\n",
    "    plt.show()\n",
    "    \n",
    "    if(t_rot==0):\n",
    "        t = np.linspace(0, 2*np.pi, 100)\n",
    "        r = np.sqrt(4)\n",
    "        x1 = a*np.cos(t)\n",
    "        x2 = b*np.sin(t)\n",
    "        fig, ax = plt.subplots(1)\n",
    "        ax.plot(x1, x2)\n",
    "        ax.plot([0, a], [0, 0], 'k') #linea\n",
    "        ax.set_aspect(1)\n",
    "        plt.title('Elipse deformada')\n",
    "        plt.grid(color='lightgray',linestyle='--')\n",
    "        plt.show()\n",
    "    elif(c==90):\n",
    "        t = np.linspace(0, 2*np.pi, 100)\n",
    "        x1 = a*np.cos(t)\n",
    "        x2 = b*np.sin(t)\n",
    "        fig, ax = plt.subplots(1)\n",
    "        ax.plot(x1, x2, 'darkorange' )\n",
    "        ax.plot([0, 0], [0, 2], '-c')\n",
    "        ax.plot([0, a], [0, 0], 'k') #linea\n",
    "        ax.set_aspect(1)\n",
    "        plt.title('Elipse deformada')\n",
    "        plt.grid(color='lightgray',linestyle='--')\n",
    "        plt.show()\n",
    "    else:\n",
    "        t = np.linspace(0, 2*np.pi, 100)\n",
    "        Ell = np.array([a*np.cos(t) , b*np.sin(t)])  \n",
    "        Elli = np.array([2*np.cos(t) , 2*np.sin(t)])  \n",
    "\n",
    "        \n",
    "        R_rot = np.array([[np.cos(t_rot) , -np.sin(t_rot)],[np.sin(t_rot) , np.cos(t_rot)]])  \n",
    "     #Rotar la elipse \n",
    "\n",
    "        Ell_rot = np.zeros((2,Ell.shape[1]))\n",
    "        for i in range(Ell.shape[1]):\n",
    "            Ell_rot[:,i] = np.dot(R_rot,Ell[:,i])\n",
    "        \n",
    "        \n",
    "        x = np.linspace(0,5,100)\n",
    "        m=np.tan(t_rot)\n",
    "        y = m*x+0 #y=mx+b linea recta y m=tan(r_rot) para la pendiente :) \n",
    "        plt.plot(x, y, '-c')\n",
    "        plt.plot( u+Ell_rot[0,:] , v+Ell_rot[1,:],'darkorange' ) #elipse rotada\n",
    "        plt.scatter(u,v) #centro\n",
    "        plt.plot([0, a], [0, 0], 'k') #linea\n",
    "        plt.title('Elipse deformada')\n",
    "        plt.grid(color='lightgray',linestyle='--')\n",
    "        plt.show()"
   ]
  },
  {
   "cell_type": "code",
   "execution_count": 16,
   "metadata": {},
   "outputs": [
    {
     "name": "stdin",
     "output_type": "stream",
     "text": [
      "Introduce el valor incial para $\\epsilon_1$ : 30\n",
      "Introduce el valor incial para $\\epsilon_3$: 20\n",
      "Introduce el valor final para $\\epsilon_1$ : 20\n",
      "Introduce el valor final para $\\epsilon_3$: 30\n",
      "Introduce el angulo en grados: 30\n"
     ]
    },
    {
     "data": {
      "image/png": "[encoded data removed]",
      "text/plain": [
       "<Figure size 432x288 with 1 Axes>"
      ]
     },
     "metadata": {
      "needs_background": "light"
     },
     "output_type": "display_data"
    },
    {
     "data": {
      "image/png": "[encoded data removed]",
      "text/plain": [
       "<Figure size 432x288 with 1 Axes>"
      ]
     },
     "metadata": {
      "needs_background": "light"
     },
     "output_type": "display_data"
    }
   ],
   "source": [
    "elipsoideDeg()\n"
   ]
  },
  {
   "cell_type": "code",
   "execution_count": null,
   "metadata": {},
   "outputs": [],
   "source": []
  }
 ],
 "metadata": {
  "kernelspec": {
   "display_name": "Python 3",
   "language": "python",
   "name": "python3"
  },
  "language_info": {
   "codemirror_mode": {
    "name": "ipython",
    "version": 3
   },
   "file_extension": ".py",
   "mimetype": "text/x-python",
   "name": "python",
   "nbconvert_exporter": "python",
   "pygments_lexer": "ipython3",
   "version": "3.7.3"
  }
 },
 "nbformat": 4,
 "nbformat_minor": 4
}
